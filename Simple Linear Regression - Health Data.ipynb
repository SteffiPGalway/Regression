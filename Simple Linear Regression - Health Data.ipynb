{
 "cells": [
  {
   "cell_type": "markdown",
   "id": "95102eba",
   "metadata": {},
   "source": [
    "# Simple Linear Regression"
   ]
  },
  {
   "cell_type": "markdown",
   "id": "28a1370f",
   "metadata": {},
   "source": [
    "Regression is a statistical method using a single dependent variable and one or more independent variable(s). \n",
    "\n",
    "The dependent variable is continuous. The independent, predictor variable can be either continuous or categorical. \n",
    "\n",
    "It assumes that the relation between X and Y is approximately linear. Thus, the change in the Y is proportional to the change in X. \n",
    "\n",
    "The aim is to find the best-fitting straight line through the training examples. This line should minimise the absolute distance between the line and the observations. This is the regression line. The vertical lines from the regression line to the original data points are offsets."
   ]
  },
  {
   "cell_type": "markdown",
   "id": "a34a4394",
   "metadata": {},
   "source": [
    "## A. Import libraries and create data"
   ]
  },
  {
   "cell_type": "markdown",
   "id": "e7ae23dc",
   "metadata": {},
   "source": [
    "We will import all libraries."
   ]
  },
  {
   "cell_type": "code",
   "execution_count": 1,
   "id": "b48e8a54",
   "metadata": {},
   "outputs": [],
   "source": [
    "import pandas as pd\n",
    "import numpy as np\n",
    "import matplotlib.pyplot as plt\n",
    "from sklearn.linear_model import LinearRegression"
   ]
  },
  {
   "cell_type": "markdown",
   "id": "19a8ff41",
   "metadata": {},
   "source": [
    "We will create a DataFrame with blood pressure and BMI as features."
   ]
  },
  {
   "cell_type": "code",
   "execution_count": 2,
   "id": "b27eee32",
   "metadata": {
    "scrolled": true
   },
   "outputs": [
    {
     "name": "stdout",
     "output_type": "stream",
     "text": [
      "   Blood Pressure (mmHg)  BMI (kg/m^2)\n",
      "0                    120          22.5\n",
      "1                    128          27.3\n",
      "2                    132          26.8\n",
      "3                    138          29.1\n",
      "4                    140          30.0\n",
      "5                    142          31.5\n",
      "6                    144          32.0\n",
      "7                    148          33.2\n",
      "8                    152          35.5\n",
      "9                    156          36.0\n"
     ]
    }
   ],
   "source": [
    "data = {'Blood Pressure (mmHg)': [120, 128, 132, 138, 140, 142, 144, 148, 152, 156],\n",
    "        'BMI (kg/m^2)': [22.5, 27.3, 26.8, 29.1, 30.0, 31.5, 32.0, 33.2, 35.5, 36.0]}\n",
    "\n",
    "df = pd.DataFrame(data)\n",
    "print(df)"
   ]
  },
  {
   "cell_type": "markdown",
   "id": "d395234f",
   "metadata": {},
   "source": [
    "We will define BMI as independent variale and Blood Pressure as dependent variable."
   ]
  },
  {
   "cell_type": "code",
   "execution_count": 3,
   "id": "d61f06b6",
   "metadata": {},
   "outputs": [],
   "source": [
    "X = pd.DataFrame(data['BMI (kg/m^2)'])\n",
    "Y = pd.DataFrame(data['Blood Pressure (mmHg)'])"
   ]
  },
  {
   "cell_type": "code",
   "execution_count": 4,
   "id": "72a628ce",
   "metadata": {},
   "outputs": [
    {
     "data": {
      "text/html": [
       "<div>\n",
       "<style scoped>\n",
       "    .dataframe tbody tr th:only-of-type {\n",
       "        vertical-align: middle;\n",
       "    }\n",
       "\n",
       "    .dataframe tbody tr th {\n",
       "        vertical-align: top;\n",
       "    }\n",
       "\n",
       "    .dataframe thead th {\n",
       "        text-align: right;\n",
       "    }\n",
       "</style>\n",
       "<table border=\"1\" class=\"dataframe\">\n",
       "  <thead>\n",
       "    <tr style=\"text-align: right;\">\n",
       "      <th></th>\n",
       "      <th>0</th>\n",
       "    </tr>\n",
       "  </thead>\n",
       "  <tbody>\n",
       "    <tr>\n",
       "      <th>0</th>\n",
       "      <td>22.5</td>\n",
       "    </tr>\n",
       "    <tr>\n",
       "      <th>1</th>\n",
       "      <td>27.3</td>\n",
       "    </tr>\n",
       "    <tr>\n",
       "      <th>2</th>\n",
       "      <td>26.8</td>\n",
       "    </tr>\n",
       "    <tr>\n",
       "      <th>3</th>\n",
       "      <td>29.1</td>\n",
       "    </tr>\n",
       "    <tr>\n",
       "      <th>4</th>\n",
       "      <td>30.0</td>\n",
       "    </tr>\n",
       "    <tr>\n",
       "      <th>5</th>\n",
       "      <td>31.5</td>\n",
       "    </tr>\n",
       "    <tr>\n",
       "      <th>6</th>\n",
       "      <td>32.0</td>\n",
       "    </tr>\n",
       "    <tr>\n",
       "      <th>7</th>\n",
       "      <td>33.2</td>\n",
       "    </tr>\n",
       "    <tr>\n",
       "      <th>8</th>\n",
       "      <td>35.5</td>\n",
       "    </tr>\n",
       "    <tr>\n",
       "      <th>9</th>\n",
       "      <td>36.0</td>\n",
       "    </tr>\n",
       "  </tbody>\n",
       "</table>\n",
       "</div>"
      ],
      "text/plain": [
       "      0\n",
       "0  22.5\n",
       "1  27.3\n",
       "2  26.8\n",
       "3  29.1\n",
       "4  30.0\n",
       "5  31.5\n",
       "6  32.0\n",
       "7  33.2\n",
       "8  35.5\n",
       "9  36.0"
      ]
     },
     "execution_count": 4,
     "metadata": {},
     "output_type": "execute_result"
    }
   ],
   "source": [
    "X"
   ]
  },
  {
   "cell_type": "code",
   "execution_count": 5,
   "id": "fd9de03e",
   "metadata": {},
   "outputs": [
    {
     "data": {
      "text/html": [
       "<div>\n",
       "<style scoped>\n",
       "    .dataframe tbody tr th:only-of-type {\n",
       "        vertical-align: middle;\n",
       "    }\n",
       "\n",
       "    .dataframe tbody tr th {\n",
       "        vertical-align: top;\n",
       "    }\n",
       "\n",
       "    .dataframe thead th {\n",
       "        text-align: right;\n",
       "    }\n",
       "</style>\n",
       "<table border=\"1\" class=\"dataframe\">\n",
       "  <thead>\n",
       "    <tr style=\"text-align: right;\">\n",
       "      <th></th>\n",
       "      <th>0</th>\n",
       "    </tr>\n",
       "  </thead>\n",
       "  <tbody>\n",
       "    <tr>\n",
       "      <th>0</th>\n",
       "      <td>120</td>\n",
       "    </tr>\n",
       "    <tr>\n",
       "      <th>1</th>\n",
       "      <td>128</td>\n",
       "    </tr>\n",
       "    <tr>\n",
       "      <th>2</th>\n",
       "      <td>132</td>\n",
       "    </tr>\n",
       "    <tr>\n",
       "      <th>3</th>\n",
       "      <td>138</td>\n",
       "    </tr>\n",
       "    <tr>\n",
       "      <th>4</th>\n",
       "      <td>140</td>\n",
       "    </tr>\n",
       "    <tr>\n",
       "      <th>5</th>\n",
       "      <td>142</td>\n",
       "    </tr>\n",
       "    <tr>\n",
       "      <th>6</th>\n",
       "      <td>144</td>\n",
       "    </tr>\n",
       "    <tr>\n",
       "      <th>7</th>\n",
       "      <td>148</td>\n",
       "    </tr>\n",
       "    <tr>\n",
       "      <th>8</th>\n",
       "      <td>152</td>\n",
       "    </tr>\n",
       "    <tr>\n",
       "      <th>9</th>\n",
       "      <td>156</td>\n",
       "    </tr>\n",
       "  </tbody>\n",
       "</table>\n",
       "</div>"
      ],
      "text/plain": [
       "     0\n",
       "0  120\n",
       "1  128\n",
       "2  132\n",
       "3  138\n",
       "4  140\n",
       "5  142\n",
       "6  144\n",
       "7  148\n",
       "8  152\n",
       "9  156"
      ]
     },
     "execution_count": 5,
     "metadata": {},
     "output_type": "execute_result"
    }
   ],
   "source": [
    "Y"
   ]
  },
  {
   "cell_type": "markdown",
   "id": "72432a77",
   "metadata": {},
   "source": [
    "We will create a scatterplot of the data to visualise the relationship between the variables."
   ]
  },
  {
   "cell_type": "code",
   "execution_count": 6,
   "id": "a22ad8d5",
   "metadata": {},
   "outputs": [
    {
     "data": {
      "image/png": "[encoded data removed]",
      "text/plain": [
       "<Figure size 432x288 with 1 Axes>"
      ]
     },
     "metadata": {
      "needs_background": "light"
     },
     "output_type": "display_data"
    }
   ],
   "source": [
    "plt.scatter(X, Y)\n",
    "plt.xlabel('BMI')\n",
    "plt.ylabel('Blood Pressure')\n",
    "plt.show()"
   ]
  },
  {
   "cell_type": "markdown",
   "id": "7581de04",
   "metadata": {},
   "source": [
    "There is approximately a linear relationship between blood pressure and BMI. "
   ]
  },
  {
   "cell_type": "markdown",
   "id": "c586f8aa",
   "metadata": {},
   "source": [
    "## B. Linear Regression using Skicit-Learn"
   ]
  },
  {
   "cell_type": "markdown",
   "id": "916bdd26",
   "metadata": {},
   "source": [
    "We will need to find the best-fit line to predict the dependent variable's value. To determine the intercept and the slope, we will create a Linear Regression object and fit the data. We will use sklearn.linear_model.LinearRegression:"
   ]
  },
  {
   "cell_type": "code",
   "execution_count": 7,
   "id": "52a65d41",
   "metadata": {},
   "outputs": [
    {
     "data": {
      "text/plain": [
       "LinearRegression()"
      ]
     },
     "execution_count": 7,
     "metadata": {},
     "output_type": "execute_result"
    }
   ],
   "source": [
    "reg = LinearRegression()\n",
    "reg.fit(X, Y)"
   ]
  },
  {
   "cell_type": "markdown",
   "id": "08a00237",
   "metadata": {},
   "source": [
    "Then we can print the intercept and the slope of the regression line. "
   ]
  },
  {
   "cell_type": "code",
   "execution_count": 8,
   "id": "9381de6b",
   "metadata": {},
   "outputs": [
    {
     "name": "stdout",
     "output_type": "stream",
     "text": [
      "Intercept:  [60.34300971]\n",
      "Slope:  [[2.62115796]]\n"
     ]
    }
   ],
   "source": [
    "print('Intercept: ', reg.intercept_)\n",
    "print('Slope: ', reg.coef_)"
   ]
  },
  {
   "cell_type": "markdown",
   "id": "8ef41ccc",
   "metadata": {},
   "source": [
    "The value for the intercept is 60.34300971, while the value for the slope is 2.62115796. We can interpret the line of best fit as follows. When BMI is 0, the average value for blood pressure is 60.34300971. For every increase in BMI, the blood pressures increase by 2.62. "
   ]
  },
  {
   "cell_type": "markdown",
   "id": "91f795b0",
   "metadata": {},
   "source": [
    "We will use the regression line to make predictions."
   ]
  },
  {
   "cell_type": "code",
   "execution_count": 9,
   "id": "32f11a30",
   "metadata": {},
   "outputs": [],
   "source": [
    "y_pred = reg.predict(X)"
   ]
  },
  {
   "cell_type": "code",
   "execution_count": 10,
   "id": "02abd326",
   "metadata": {},
   "outputs": [
    {
     "data": {
      "text/plain": [
       "array([[119.31906373],\n",
       "       [131.90062192],\n",
       "       [130.59004294],\n",
       "       [136.61870624],\n",
       "       [138.9777484 ],\n",
       "       [142.90948533],\n",
       "       [144.22006431],\n",
       "       [147.36545386],\n",
       "       [153.39411716],\n",
       "       [154.70469613]])"
      ]
     },
     "execution_count": 10,
     "metadata": {},
     "output_type": "execute_result"
    }
   ],
   "source": [
    "y_pred"
   ]
  },
  {
   "cell_type": "markdown",
   "id": "9e5d57f5",
   "metadata": {},
   "source": [
    "## C. Linear Regression using statsmodel"
   ]
  },
  {
   "cell_type": "code",
   "execution_count": 11,
   "id": "a8350379",
   "metadata": {},
   "outputs": [],
   "source": [
    "import statsmodels.api as sm"
   ]
  },
  {
   "cell_type": "markdown",
   "id": "8187e606",
   "metadata": {},
   "source": [
    "We will add a constant to the predictor variable."
   ]
  },
  {
   "cell_type": "code",
   "execution_count": 12,
   "id": "72581b47",
   "metadata": {},
   "outputs": [],
   "source": [
    "X = sm.add_constant(X)"
   ]
  },
  {
   "cell_type": "markdown",
   "id": "c6a4d36f",
   "metadata": {},
   "source": [
    "We will fit a linear regression model."
   ]
  },
  {
   "cell_type": "code",
   "execution_count": 13,
   "id": "78a510b0",
   "metadata": {},
   "outputs": [],
   "source": [
    "model = sm.OLS(Y, X).fit()"
   ]
  },
  {
   "cell_type": "markdown",
   "id": "0b3030ee",
   "metadata": {},
   "source": [
    "We will view the model summary."
   ]
  },
  {
   "cell_type": "code",
   "execution_count": 14,
   "id": "4be790c7",
   "metadata": {},
   "outputs": [
    {
     "name": "stdout",
     "output_type": "stream",
     "text": [
      "                            OLS Regression Results                            \n",
      "==============================================================================\n",
      "Dep. Variable:                      0   R-squared:                       0.977\n",
      "Model:                            OLS   Adj. R-squared:                  0.974\n",
      "Method:                 Least Squares   F-statistic:                     335.6\n",
      "Date:                Sun, 16 Apr 2023   Prob (F-statistic):           8.11e-08\n",
      "Time:                        08:47:21   Log-Likelihood:                -18.874\n",
      "No. Observations:                  10   AIC:                             41.75\n",
      "Df Residuals:                       8   BIC:                             42.35\n",
      "Df Model:                           1                                         \n",
      "Covariance Type:            nonrobust                                         \n",
      "==============================================================================\n",
      "                 coef    std err          t      P>|t|      [0.025      0.975]\n",
      "------------------------------------------------------------------------------\n",
      "const         60.3430      4.385     13.762      0.000      50.232      70.454\n",
      "0              2.6212      0.143     18.319      0.000       2.291       2.951\n",
      "==============================================================================\n",
      "Omnibus:                        7.494   Durbin-Watson:                   2.571\n",
      "Prob(Omnibus):                  0.024   Jarque-Bera (JB):                3.148\n",
      "Skew:                          -1.314   Prob(JB):                        0.207\n",
      "Kurtosis:                       3.806   Cond. No.                         238.\n",
      "==============================================================================\n",
      "\n",
      "Notes:\n",
      "[1] Standard Errors assume that the covariance matrix of the errors is correctly specified.\n"
     ]
    },
    {
     "name": "stderr",
     "output_type": "stream",
     "text": [
      "/Users/steffipoliwoda/opt/anaconda3/lib/python3.7/site-packages/scipy/stats/stats.py:1542: UserWarning: kurtosistest only valid for n>=20 ... continuing anyway, n=10\n",
      "  \"anyway, n=%i\" % int(n))\n"
     ]
    }
   ],
   "source": [
    "print(model.summary())"
   ]
  },
  {
   "cell_type": "markdown",
   "id": "39cce9a0",
   "metadata": {},
   "source": [
    "- Adj. R-squared reflects the fit of the model. R-squared values range from 0 to 1. A high value generally indicates a better fit. In our example, the value is 0.974.  \n",
    "- std err reflects the level of accuracy of the coefficients. The lower it is, the higher is the level of accuracy\n",
    "- P >|t| is the p-value. A p-value of less than 0.05 is considered to be statistically significant. In our example, the p-value is 0.00. "
   ]
  },
  {
   "cell_type": "code",
   "execution_count": 15,
   "id": "b0cc68f6",
   "metadata": {},
   "outputs": [],
   "source": [
    "import matplotlib.pyplot as plt\n",
    "import numpy as np"
   ]
  },
  {
   "cell_type": "markdown",
   "id": "b8b68a9d",
   "metadata": {},
   "source": [
    "We will add the line of best to the plot."
   ]
  },
  {
   "cell_type": "code",
   "execution_count": 16,
   "id": "e360deea",
   "metadata": {},
   "outputs": [
    {
     "data": {
      "text/plain": [
       "Text(0, 0.5, 'Blood Pressure (mmHg)')"
      ]
     },
     "execution_count": 16,
     "metadata": {},
     "output_type": "execute_result"
    },
    {
     "data": {
      "image/png": "[encoded data removed]",
      "text/plain": [
       "<Figure size 432x288 with 1 Axes>"
      ]
     },
     "metadata": {
      "needs_background": "light"
     },
     "output_type": "display_data"
    }
   ],
   "source": [
    "a, b = np.polyfit(df['BMI (kg/m^2)'], df['Blood Pressure (mmHg)'], 1)\n",
    "plt.scatter(df['BMI (kg/m^2)'], df['Blood Pressure (mmHg)'], color='purple')\n",
    "plt.plot(df['BMI (kg/m^2)'], a*df['BMI (kg/m^2)']+b)\n",
    "\n",
    "plt.xlabel('BMI (kg/m^2)')\n",
    "plt.ylabel('Blood Pressure (mmHg)')"
   ]
  }
 ],
 "metadata": {
  "kernelspec": {
   "display_name": "Python 3 (ipykernel)",
   "language": "python",
   "name": "python3"
  },
  "language_info": {
   "codemirror_mode": {
    "name": "ipython",
    "version": 3
   },
   "file_extension": ".py",
   "mimetype": "text/x-python",
   "name": "python",
   "nbconvert_exporter": "python",
   "pygments_lexer": "ipython3",
   "version": "3.7.13"
  }
 },
 "nbformat": 4,
 "nbformat_minor": 5
}
